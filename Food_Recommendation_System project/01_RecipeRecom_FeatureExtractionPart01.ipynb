{
 "cells": [
  {
   "cell_type": "markdown",
   "id": "640bd3f7",
   "metadata": {
    "id": "640bd3f7"
   },
   "source": [
    "## Initial Setup"
   ]
  },
  {
   "cell_type": "code",
   "execution_count": 1,
   "id": "fkHJ1ExxTtE5",
   "metadata": {
    "colab": {
     "base_uri": "https://localhost:8080/"
    },
    "execution": {
     "iopub.execute_input": "2022-12-17T06:23:42.176582Z",
     "iopub.status.busy": "2022-12-17T06:23:42.176178Z",
     "iopub.status.idle": "2022-12-17T06:24:12.875026Z",
     "shell.execute_reply": "2022-12-17T06:24:12.874167Z",
     "shell.execute_reply.started": "2022-12-17T06:23:42.176547Z"
    },
    "executionInfo": {
     "elapsed": 3487,
     "status": "ok",
     "timestamp": 1671251935550,
     "user": {
      "displayName": "selva kumar",
      "userId": "14603636916965685349"
     },
     "user_tz": -330
    },
    "id": "fkHJ1ExxTtE5",
    "outputId": "73673e61-e5f0-49e7-dfb1-315ed32b6eb6",
    "tags": []
   },
   "outputs": [
    {
     "data": {
      "application/vnd.jupyter.widget-view+json": {
       "model_id": "dbfe47b632364e64be49a5063fe55069",
       "version_major": 2,
       "version_minor": 0
      },
      "text/plain": [
       "VBox()"
      ]
     },
     "metadata": {},
     "output_type": "display_data"
    },
    {
     "name": "stdout",
     "output_type": "stream",
     "text": [
      "Starting Spark application\n"
     ]
    },
    {
     "data": {
      "text/html": [
       "<table>\n",
       "<tr><th>ID</th><th>YARN Application ID</th><th>Kind</th><th>State</th><th>Spark UI</th><th>Driver log</th><th>User</th><th>Current session?</th></tr><tr><td>1</td><td>application_1671253091643_0002</td><td>pyspark</td><td>idle</td><td><a target=\"_blank\" href=\"http://ip-172-31-15-204.ec2.internal:20888/proxy/application_1671253091643_0002/\" class=\"emr-proxy-link\" emr-resource=\"j-KMB6Z632R63X\n",
       "\" application-id=\"application_1671253091643_0002\">Link</a></td><td><a target=\"_blank\" href=\"http://ip-172-31-5-174.ec2.internal:8042/node/containerlogs/container_1671253091643_0002_01_000001/livy\" >Link</a></td><td>None</td><td>✔</td></tr></table>"
      ],
      "text/plain": [
       "<IPython.core.display.HTML object>"
      ]
     },
     "metadata": {},
     "output_type": "display_data"
    },
    {
     "data": {
      "application/vnd.jupyter.widget-view+json": {
       "model_id": "",
       "version_major": 2,
       "version_minor": 0
      },
      "text/plain": [
       "FloatProgress(value=0.0, bar_style='info', description='Progress:', layout=Layout(height='25px', width='50%'),…"
      ]
     },
     "metadata": {},
     "output_type": "display_data"
    },
    {
     "name": "stdout",
     "output_type": "stream",
     "text": [
      "SparkSession available as 'spark'.\n"
     ]
    },
    {
     "data": {
      "application/vnd.jupyter.widget-view+json": {
       "model_id": "",
       "version_major": 2,
       "version_minor": 0
      },
      "text/plain": [
       "FloatProgress(value=0.0, bar_style='info', description='Progress:', layout=Layout(height='25px', width='50%'),…"
      ]
     },
     "metadata": {},
     "output_type": "display_data"
    }
   ],
   "source": [
    "from pyspark.sql import SparkSession\n",
    "\n",
    "spark = SparkSession.builder.appName(\"Basics\").getOrCreate()"
   ]
  },
  {
   "cell_type": "code",
   "execution_count": 2,
   "id": "494d9d27",
   "metadata": {
    "execution": {
     "iopub.execute_input": "2022-12-17T06:24:12.876766Z",
     "iopub.status.busy": "2022-12-17T06:24:12.876476Z",
     "iopub.status.idle": "2022-12-17T06:24:12.941372Z",
     "shell.execute_reply": "2022-12-17T06:24:12.940505Z",
     "shell.execute_reply.started": "2022-12-17T06:24:12.876735Z"
    },
    "executionInfo": {
     "elapsed": 8658,
     "status": "ok",
     "timestamp": 1671251944206,
     "user": {
      "displayName": "selva kumar",
      "userId": "14603636916965685349"
     },
     "user_tz": -330
    },
    "id": "494d9d27",
    "tags": []
   },
   "outputs": [
    {
     "data": {
      "application/vnd.jupyter.widget-view+json": {
       "model_id": "fba0ef8cd6334420a86992c5f221e398",
       "version_major": 2,
       "version_minor": 0
      },
      "text/plain": [
       "VBox()"
      ]
     },
     "metadata": {},
     "output_type": "display_data"
    },
    {
     "data": {
      "application/vnd.jupyter.widget-view+json": {
       "model_id": "",
       "version_major": 2,
       "version_minor": 0
      },
      "text/plain": [
       "FloatProgress(value=0.0, bar_style='info', description='Progress:', layout=Layout(height='25px', width='50%'),…"
      ]
     },
     "metadata": {},
     "output_type": "display_data"
    },
    {
     "name": "stdout",
     "output_type": "stream",
     "text": [
      "<pyspark.sql.session.SparkSession object at 0x7ffada6db310>"
     ]
    }
   ],
   "source": [
    "spark"
   ]
  },
  {
   "cell_type": "code",
   "execution_count": 3,
   "id": "d956d7bf",
   "metadata": {
    "execution": {
     "iopub.execute_input": "2022-12-17T06:24:12.943564Z",
     "iopub.status.busy": "2022-12-17T06:24:12.943262Z",
     "iopub.status.idle": "2022-12-17T06:24:13.011042Z",
     "shell.execute_reply": "2022-12-17T06:24:13.009563Z",
     "shell.execute_reply.started": "2022-12-17T06:24:12.943531Z"
    },
    "executionInfo": {
     "elapsed": 14,
     "status": "ok",
     "timestamp": 1671251944207,
     "user": {
      "displayName": "selva kumar",
      "userId": "14603636916965685349"
     },
     "user_tz": -330
    },
    "id": "d956d7bf",
    "tags": []
   },
   "outputs": [
    {
     "data": {
      "application/vnd.jupyter.widget-view+json": {
       "model_id": "e4113392df834ece97c740af52b17eb6",
       "version_major": 2,
       "version_minor": 0
      },
      "text/plain": [
       "VBox()"
      ]
     },
     "metadata": {},
     "output_type": "display_data"
    },
    {
     "data": {
      "application/vnd.jupyter.widget-view+json": {
       "model_id": "",
       "version_major": 2,
       "version_minor": 0
      },
      "text/plain": [
       "FloatProgress(value=0.0, bar_style='info', description='Progress:', layout=Layout(height='25px', width='50%'),…"
      ]
     },
     "metadata": {},
     "output_type": "display_data"
    }
   ],
   "source": [
    "from pyspark.sql import functions as F\n",
    "\n",
    "# Import for typecasting columns\n",
    "from pyspark.sql.types import IntegerType, BooleanType, DateType, FloatType, StringType\n",
    "from pyspark.sql.types import ArrayType"
   ]
  },
  {
   "cell_type": "markdown",
   "id": "652d9b65",
   "metadata": {
    "id": "652d9b65"
   },
   "source": [
    " ## <font color='DeepskyBlue'>Task 01: Read the data </font>"
   ]
  },
  {
   "cell_type": "markdown",
   "id": "d45cb47b",
   "metadata": {
    "id": "d45cb47b"
   },
   "source": [
    "<font color='DeepskyBlue'> Ensure you read the data so that all columns are read with the right data type.\n",
    "The \"right\" datatype at this stage are shown in the expected output cell below. </font>"
   ]
  },
  {
   "cell_type": "markdown",
   "id": "ad8a30e9",
   "metadata": {
    "id": "ad8a30e9"
   },
   "source": [
    "### <font color='DeepskyBlue'>Task 1 </font>"
   ]
  },
  {
   "cell_type": "code",
   "execution_count": 4,
   "id": "e20dae66",
   "metadata": {
    "execution": {
     "iopub.execute_input": "2022-12-17T06:24:13.013598Z",
     "iopub.status.busy": "2022-12-17T06:24:13.013307Z",
     "iopub.status.idle": "2022-12-17T06:24:26.362837Z",
     "shell.execute_reply": "2022-12-17T06:24:26.362008Z",
     "shell.execute_reply.started": "2022-12-17T06:24:13.013567Z"
    },
    "executionInfo": {
     "elapsed": 9590,
     "status": "ok",
     "timestamp": 1671251953783,
     "user": {
      "displayName": "selva kumar",
      "userId": "14603636916965685349"
     },
     "user_tz": -330
    },
    "id": "e20dae66",
    "tags": []
   },
   "outputs": [
    {
     "data": {
      "application/vnd.jupyter.widget-view+json": {
       "model_id": "716722feaa7a41b3b985e6defa576c7e",
       "version_major": 2,
       "version_minor": 0
      },
      "text/plain": [
       "VBox()"
      ]
     },
     "metadata": {},
     "output_type": "display_data"
    },
    {
     "data": {
      "application/vnd.jupyter.widget-view+json": {
       "model_id": "",
       "version_major": 2,
       "version_minor": 0
      },
      "text/plain": [
       "FloatProgress(value=0.0, bar_style='info', description='Progress:', layout=Layout(height='25px', width='50%'),…"
      ]
     },
     "metadata": {},
     "output_type": "display_data"
    }
   ],
   "source": [
    "# Task 01 Cell 1 out of 1\n",
    "\n",
    "raw_recipes_df = (spark.read.csv(\n",
    "    \"s3://aws-emr-resources-362601132439-us-east-1/notebooks/e-6EQ18VWH4ISJJBY68567ZT0TX/RAW_recipes_cleaned.csv\",\n",
    "    header=True,\n",
    "    inferSchema=True).withColumnRenamed(\"submitted\", \"submitted_date\"))\n",
    "\n",
    "#raw_recipes_df = spark.read.csv('https://upgradmaterials.s3.amazonaws.com/RAW_recipes_cleaned.csv', header=True, inferSchema=True).withColumnRenamed(\"submitted\",\"submitted_date\");"
   ]
  },
  {
   "cell_type": "code",
   "execution_count": 5,
   "id": "WESyFkMhXCHx",
   "metadata": {
    "colab": {
     "base_uri": "https://localhost:8080/"
    },
    "execution": {
     "iopub.execute_input": "2022-12-17T06:24:26.364409Z",
     "iopub.status.busy": "2022-12-17T06:24:26.364122Z",
     "iopub.status.idle": "2022-12-17T06:24:26.425619Z",
     "shell.execute_reply": "2022-12-17T06:24:26.424769Z",
     "shell.execute_reply.started": "2022-12-17T06:24:26.364378Z"
    },
    "executionInfo": {
     "elapsed": 14,
     "status": "ok",
     "timestamp": 1671251953784,
     "user": {
      "displayName": "selva kumar",
      "userId": "14603636916965685349"
     },
     "user_tz": -330
    },
    "id": "WESyFkMhXCHx",
    "outputId": "c9d2b6b9-f02a-4d22-ebd2-48f3dcfe58c8",
    "tags": []
   },
   "outputs": [
    {
     "data": {
      "application/vnd.jupyter.widget-view+json": {
       "model_id": "ab5e816620224140815764bfbee59292",
       "version_major": 2,
       "version_minor": 0
      },
      "text/plain": [
       "VBox()"
      ]
     },
     "metadata": {},
     "output_type": "display_data"
    },
    {
     "data": {
      "application/vnd.jupyter.widget-view+json": {
       "model_id": "",
       "version_major": 2,
       "version_minor": 0
      },
      "text/plain": [
       "FloatProgress(value=0.0, bar_style='info', description='Progress:', layout=Layout(height='25px', width='50%'),…"
      ]
     },
     "metadata": {},
     "output_type": "display_data"
    },
    {
     "name": "stdout",
     "output_type": "stream",
     "text": [
      "root\n",
      " |-- name: string (nullable = true)\n",
      " |-- id: integer (nullable = true)\n",
      " |-- minutes: integer (nullable = true)\n",
      " |-- contributor_id: integer (nullable = true)\n",
      " |-- submitted_date: timestamp (nullable = true)\n",
      " |-- tags: string (nullable = true)\n",
      " |-- nutrition: string (nullable = true)\n",
      " |-- n_steps: integer (nullable = true)\n",
      " |-- steps: string (nullable = true)\n",
      " |-- description: string (nullable = true)\n",
      " |-- ingredients: string (nullable = true)\n",
      " |-- n_ingredients: integer (nullable = true)"
     ]
    }
   ],
   "source": [
    "raw_recipes_df.printSchema()  # Checking the schema"
   ]
  },
  {
   "cell_type": "code",
   "execution_count": 6,
   "id": "SdXYjozvXCVl",
   "metadata": {
    "colab": {
     "base_uri": "https://localhost:8080/"
    },
    "execution": {
     "iopub.execute_input": "2022-12-17T06:24:26.427076Z",
     "iopub.status.busy": "2022-12-17T06:24:26.426772Z",
     "iopub.status.idle": "2022-12-17T06:24:26.693663Z",
     "shell.execute_reply": "2022-12-17T06:24:26.692588Z",
     "shell.execute_reply.started": "2022-12-17T06:24:26.427045Z"
    },
    "executionInfo": {
     "elapsed": 13,
     "status": "ok",
     "timestamp": 1671251953784,
     "user": {
      "displayName": "selva kumar",
      "userId": "14603636916965685349"
     },
     "user_tz": -330
    },
    "id": "SdXYjozvXCVl",
    "outputId": "32c59c4a-2040-4dfd-8d42-8cb3fa8c049f",
    "tags": []
   },
   "outputs": [
    {
     "data": {
      "application/vnd.jupyter.widget-view+json": {
       "model_id": "ef4022043ad64d28bde26e574fe54721",
       "version_major": 2,
       "version_minor": 0
      },
      "text/plain": [
       "VBox()"
      ]
     },
     "metadata": {},
     "output_type": "display_data"
    },
    {
     "data": {
      "application/vnd.jupyter.widget-view+json": {
       "model_id": "",
       "version_major": 2,
       "version_minor": 0
      },
      "text/plain": [
       "FloatProgress(value=0.0, bar_style='info', description='Progress:', layout=Layout(height='25px', width='50%'),…"
      ]
     },
     "metadata": {},
     "output_type": "display_data"
    },
    {
     "name": "stdout",
     "output_type": "stream",
     "text": [
      "root\n",
      " |-- name: string (nullable = true)\n",
      " |-- id: integer (nullable = true)\n",
      " |-- minutes: integer (nullable = true)\n",
      " |-- contributor_id: integer (nullable = true)\n",
      " |-- submitted_date: date (nullable = true)\n",
      " |-- tags: string (nullable = true)\n",
      " |-- nutrition: string (nullable = true)\n",
      " |-- n_steps: integer (nullable = true)\n",
      " |-- steps: string (nullable = true)\n",
      " |-- description: string (nullable = true)\n",
      " |-- ingredients: string (nullable = true)\n",
      " |-- n_ingredients: integer (nullable = true)"
     ]
    }
   ],
   "source": [
    "# Submitted is a date and it is not in Date format\n",
    "raw_recipes_df = (raw_recipes_df.withColumn(\n",
    "    \"submitted_date\", raw_recipes_df[\"submitted_date\"].cast(\"Date\")))\n",
    "raw_recipes_df.printSchema()"
   ]
  },
  {
   "cell_type": "code",
   "execution_count": 7,
   "id": "XNNp-2PUcuF5",
   "metadata": {
    "colab": {
     "base_uri": "https://localhost:8080/"
    },
    "execution": {
     "iopub.execute_input": "2022-12-17T06:24:26.695125Z",
     "iopub.status.busy": "2022-12-17T06:24:26.694827Z",
     "iopub.status.idle": "2022-12-17T06:24:27.473575Z",
     "shell.execute_reply": "2022-12-17T06:24:27.472679Z",
     "shell.execute_reply.started": "2022-12-17T06:24:26.695094Z"
    },
    "executionInfo": {
     "elapsed": 672,
     "status": "ok",
     "timestamp": 1671251954445,
     "user": {
      "displayName": "selva kumar",
      "userId": "14603636916965685349"
     },
     "user_tz": -330
    },
    "id": "XNNp-2PUcuF5",
    "outputId": "a1ce5fee-0bf6-4d49-da45-614342f1c8dc",
    "tags": []
   },
   "outputs": [
    {
     "data": {
      "application/vnd.jupyter.widget-view+json": {
       "model_id": "dac2d2feb5144a729dfbee174044d4fd",
       "version_major": 2,
       "version_minor": 0
      },
      "text/plain": [
       "VBox()"
      ]
     },
     "metadata": {},
     "output_type": "display_data"
    },
    {
     "data": {
      "application/vnd.jupyter.widget-view+json": {
       "model_id": "",
       "version_major": 2,
       "version_minor": 0
      },
      "text/plain": [
       "FloatProgress(value=0.0, bar_style='info', description='Progress:', layout=Layout(height='25px', width='50%'),…"
      ]
     },
     "metadata": {},
     "output_type": "display_data"
    },
    {
     "name": "stdout",
     "output_type": "stream",
     "text": [
      "+--------------------+------+-------+--------------+--------------+--------------------+--------------------+-------+--------------------+--------------------+--------------------+-------------+\n",
      "|                name|    id|minutes|contributor_id|submitted_date|                tags|           nutrition|n_steps|               steps|         description|         ingredients|n_ingredients|\n",
      "+--------------------+------+-------+--------------+--------------+--------------------+--------------------+-------+--------------------+--------------------+--------------------+-------------+\n",
      "|arriba   baked wi...|137739|     55|         47892|    2005-09-16|['60-minutes-or-l...|[51.5, 0.0, 13.0,...|     11|['make a choice a...|autumn is my favo...|['winter squash',...|            7|\n",
      "|a bit different  ...| 31490|     30|         26278|    2002-06-17|['30-minutes-or-l...|[173.4, 18.0, 0.0...|      9|['preheat oven to...|this recipe calls...|['prepared pizza ...|            6|\n",
      "|all in the kitche...|112140|    130|        196586|    2005-02-25|['time-to-make', ...|[269.8, 22.0, 32....|      6|['brown ground be...|this modified ver...|['ground beef', '...|           13|\n",
      "|  alouette  potatoes| 59389|     45|         68585|    2003-04-14|['60-minutes-or-l...|[368.1, 17.0, 10....|     11|['place potatoes ...|this is a super e...|['spreadable chee...|           11|\n",
      "|amish  tomato ket...| 44061|    190|         41706|    2002-10-25|['weeknight', 'ti...|[352.9, 1.0, 337....|      5|['mix all ingredi...|my dh's amish mot...|['tomato juice', ...|            8|\n",
      "+--------------------+------+-------+--------------+--------------+--------------------+--------------------+-------+--------------------+--------------------+--------------------+-------------+\n",
      "only showing top 5 rows"
     ]
    }
   ],
   "source": [
    "raw_recipes_df.show(5)"
   ]
  },
  {
   "cell_type": "markdown",
   "id": "62407b85",
   "metadata": {
    "id": "62407b85"
   },
   "source": [
    "<font color='blue'>Test cases for Task 01</font>"
   ]
  },
  {
   "cell_type": "code",
   "execution_count": 8,
   "id": "a5b8d8b3",
   "metadata": {
    "execution": {
     "iopub.execute_input": "2022-12-17T06:24:27.477067Z",
     "iopub.status.busy": "2022-12-17T06:24:27.476753Z",
     "iopub.status.idle": "2022-12-17T06:24:29.778861Z",
     "shell.execute_reply": "2022-12-17T06:24:29.777917Z",
     "shell.execute_reply.started": "2022-12-17T06:24:27.477036Z"
    },
    "executionInfo": {
     "elapsed": 2468,
     "status": "ok",
     "timestamp": 1671251956911,
     "user": {
      "displayName": "selva kumar",
      "userId": "14603636916965685349"
     },
     "user_tz": -330
    },
    "id": "a5b8d8b3",
    "scrolled": true,
    "tags": []
   },
   "outputs": [
    {
     "data": {
      "application/vnd.jupyter.widget-view+json": {
       "model_id": "061ed6200164476492e49f0656db37d2",
       "version_major": 2,
       "version_minor": 0
      },
      "text/plain": [
       "VBox()"
      ]
     },
     "metadata": {},
     "output_type": "display_data"
    },
    {
     "data": {
      "application/vnd.jupyter.widget-view+json": {
       "model_id": "",
       "version_major": 2,
       "version_minor": 0
      },
      "text/plain": [
       "FloatProgress(value=0.0, bar_style='info', description='Progress:', layout=Layout(height='25px', width='50%'),…"
      ]
     },
     "metadata": {},
     "output_type": "display_data"
    }
   ],
   "source": [
    "# Code check cell\n",
    "# Do not edit cells with assert commands\n",
    "# If an error is shown after running this cell, please recheck your code.\n",
    "\n",
    "assert raw_recipes_df.count(\n",
    ") == 231637, \"There is a mistake in reading the data.\"\n",
    "assert len(\n",
    "    raw_recipes_df.columns) == 12, \"There is a mistake in reading the data.\"\n",
    "assert raw_recipes_df.schema[\"minutes\"].dataType == IntegerType(\n",
    "), \"The data types have not been read correctly.\"\n",
    "assert raw_recipes_df.schema[\"tags\"].dataType == StringType(\n",
    "), \"The data types have not been read correctly.\"\n",
    "assert raw_recipes_df.schema[\"n_ingredients\"].dataType == IntegerType(\n",
    "), \"The data types have not been read correctly.\""
   ]
  },
  {
   "cell_type": "markdown",
   "id": "383e4450",
   "metadata": {
    "id": "383e4450"
   },
   "source": [
    " ## <font color='Teal'>Task 02: Extract individual features from the nutrition column."
   ]
  },
  {
   "cell_type": "markdown",
   "id": "8d240566",
   "metadata": {
    "id": "8d240566"
   },
   "source": [
    "## Extract ```nutrition``` values "
   ]
  },
  {
   "cell_type": "code",
   "execution_count": 9,
   "id": "e60b6807",
   "metadata": {
    "execution": {
     "iopub.execute_input": "2022-12-17T06:24:29.781307Z",
     "iopub.status.busy": "2022-12-17T06:24:29.781012Z",
     "iopub.status.idle": "2022-12-17T06:24:30.274068Z",
     "shell.execute_reply": "2022-12-17T06:24:30.273213Z",
     "shell.execute_reply.started": "2022-12-17T06:24:29.781275Z"
    },
    "executionInfo": {
     "elapsed": 5,
     "status": "ok",
     "timestamp": 1671251956911,
     "user": {
      "displayName": "selva kumar",
      "userId": "14603636916965685349"
     },
     "user_tz": -330
    },
    "id": "e60b6807",
    "tags": []
   },
   "outputs": [
    {
     "data": {
      "application/vnd.jupyter.widget-view+json": {
       "model_id": "16ab950203af4338b0ccb721ea1f1a24",
       "version_major": 2,
       "version_minor": 0
      },
      "text/plain": [
       "VBox()"
      ]
     },
     "metadata": {},
     "output_type": "display_data"
    },
    {
     "data": {
      "application/vnd.jupyter.widget-view+json": {
       "model_id": "",
       "version_major": 2,
       "version_minor": 0
      },
      "text/plain": [
       "FloatProgress(value=0.0, bar_style='info', description='Progress:', layout=Layout(height='25px', width='50%'),…"
      ]
     },
     "metadata": {},
     "output_type": "display_data"
    }
   ],
   "source": [
    "# List of nutrition columns\n",
    "\n",
    "nutrition_column_names = [\n",
    "    'calories', 'total_fat_PDV', 'sugar_PDV', 'sodium_PDV', 'protein_PDV',\n",
    "    'saturated_fat_PDV', 'carbohydrates_PDV'\n",
    "]"
   ]
  },
  {
   "cell_type": "markdown",
   "id": "a836d795",
   "metadata": {
    "id": "a836d795"
   },
   "source": [
    "<font color='Teal'> \n",
    "As read by the spark compiler, the nutrition column is a string column when it should be an array of float values. Each row in the nutrition column contains seven values. Each value represents nutrition information.</font>"
   ]
  },
  {
   "cell_type": "code",
   "execution_count": 10,
   "id": "1083715f",
   "metadata": {
    "execution": {
     "iopub.execute_input": "2022-12-17T06:24:30.275530Z",
     "iopub.status.busy": "2022-12-17T06:24:30.275184Z",
     "iopub.status.idle": "2022-12-17T06:24:30.541612Z",
     "shell.execute_reply": "2022-12-17T06:24:30.540738Z",
     "shell.execute_reply.started": "2022-12-17T06:24:30.275498Z"
    },
    "executionInfo": {
     "elapsed": 5,
     "status": "ok",
     "timestamp": 1671251956912,
     "user": {
      "displayName": "selva kumar",
      "userId": "14603636916965685349"
     },
     "user_tz": -330
    },
    "id": "1083715f",
    "tags": []
   },
   "outputs": [
    {
     "data": {
      "application/vnd.jupyter.widget-view+json": {
       "model_id": "c240339006154e3cad70607adf67bddf",
       "version_major": 2,
       "version_minor": 0
      },
      "text/plain": [
       "VBox()"
      ]
     },
     "metadata": {},
     "output_type": "display_data"
    },
    {
     "data": {
      "application/vnd.jupyter.widget-view+json": {
       "model_id": "",
       "version_major": 2,
       "version_minor": 0
      },
      "text/plain": [
       "FloatProgress(value=0.0, bar_style='info', description='Progress:', layout=Layout(height='25px', width='50%'),…"
      ]
     },
     "metadata": {},
     "output_type": "display_data"
    }
   ],
   "source": [
    "# Task 02 Cell 1 out of 2\n",
    "# 2.1 - string operations to remove square brakets\n",
    "raw_recipes_df = raw_recipes_df.withColumn(\n",
    "    'nutrition', F.regexp_replace('nutrition', '[\\\\[\\\\]]', ''));"
   ]
  },
  {
   "cell_type": "code",
   "execution_count": 11,
   "id": "7c2a3cc8",
   "metadata": {
    "colab": {
     "base_uri": "https://localhost:8080/"
    },
    "execution": {
     "iopub.execute_input": "2022-12-17T06:24:30.543024Z",
     "iopub.status.busy": "2022-12-17T06:24:30.542741Z",
     "iopub.status.idle": "2022-12-17T06:24:30.811183Z",
     "shell.execute_reply": "2022-12-17T06:24:30.810320Z",
     "shell.execute_reply.started": "2022-12-17T06:24:30.542994Z"
    },
    "executionInfo": {
     "elapsed": 734,
     "status": "ok",
     "timestamp": 1671251957642,
     "user": {
      "displayName": "selva kumar",
      "userId": "14603636916965685349"
     },
     "user_tz": -330
    },
    "id": "7c2a3cc8",
    "outputId": "a6c1df95-41a1-4e39-d627-604633f6a34e",
    "tags": []
   },
   "outputs": [
    {
     "data": {
      "application/vnd.jupyter.widget-view+json": {
       "model_id": "e81b1acfa63446e6b6cb672ddba34c6c",
       "version_major": 2,
       "version_minor": 0
      },
      "text/plain": [
       "VBox()"
      ]
     },
     "metadata": {},
     "output_type": "display_data"
    },
    {
     "data": {
      "application/vnd.jupyter.widget-view+json": {
       "model_id": "",
       "version_major": 2,
       "version_minor": 0
      },
      "text/plain": [
       "FloatProgress(value=0.0, bar_style='info', description='Progress:', layout=Layout(height='25px', width='50%'),…"
      ]
     },
     "metadata": {},
     "output_type": "display_data"
    },
    {
     "name": "stdout",
     "output_type": "stream",
     "text": [
      "root\n",
      " |-- name: string (nullable = true)\n",
      " |-- id: integer (nullable = true)\n",
      " |-- minutes: integer (nullable = true)\n",
      " |-- contributor_id: integer (nullable = true)\n",
      " |-- submitted_date: date (nullable = true)\n",
      " |-- tags: string (nullable = true)\n",
      " |-- nutrition: string (nullable = true)\n",
      " |-- n_steps: integer (nullable = true)\n",
      " |-- steps: string (nullable = true)\n",
      " |-- description: string (nullable = true)\n",
      " |-- ingredients: string (nullable = true)\n",
      " |-- n_ingredients: integer (nullable = true)\n",
      " |-- calories: float (nullable = true)\n",
      " |-- total_fat_PDV: float (nullable = true)\n",
      " |-- sugar_PDV: float (nullable = true)\n",
      " |-- sodium_PDV: float (nullable = true)\n",
      " |-- protein_PDV: float (nullable = true)\n",
      " |-- saturated_fat_PDV: float (nullable = true)\n",
      " |-- carbohydrates_PDV: float (nullable = true)"
     ]
    }
   ],
   "source": [
    "# Task 02 Cell 2 out of 3\n",
    "# STEP 2.2 - split the nutrition string into seven individial values.\n",
    "# Creating an object to split the nutrition column\n",
    "\n",
    "nutrition_cols_split = F.split(raw_recipes_df['nutrition'], ',')\n",
    "\n",
    "# A loop to extract individual values from the nutrition column\n",
    "\n",
    "for col_index, col_name in enumerate(nutrition_column_names):\n",
    "    # col_index holds the index number of each column, e.g., calories will be 0\n",
    "    # col_name holds the name of each column\n",
    "\n",
    "    raw_recipes_df = raw_recipes_df.withColumn(\n",
    "        col_name,\n",
    "        nutrition_cols_split.getItem(col_index).cast('float'))\n",
    "\n",
    "raw_recipes_df.printSchema()"
   ]
  },
  {
   "cell_type": "markdown",
   "id": "4763390d",
   "metadata": {
    "id": "4763390d"
   },
   "source": [
    "**Test cases for task 02**"
   ]
  },
  {
   "cell_type": "code",
   "execution_count": 12,
   "id": "7323e7ff",
   "metadata": {
    "execution": {
     "iopub.execute_input": "2022-12-17T06:24:30.812654Z",
     "iopub.status.busy": "2022-12-17T06:24:30.812366Z",
     "iopub.status.idle": "2022-12-17T06:24:44.173840Z",
     "shell.execute_reply": "2022-12-17T06:24:44.172936Z",
     "shell.execute_reply.started": "2022-12-17T06:24:30.812623Z"
    },
    "executionInfo": {
     "elapsed": 1,
     "status": "ok",
     "timestamp": 1671251957642,
     "user": {
      "displayName": "selva kumar",
      "userId": "14603636916965685349"
     },
     "user_tz": -330
    },
    "id": "7323e7ff",
    "scrolled": true,
    "tags": []
   },
   "outputs": [
    {
     "data": {
      "application/vnd.jupyter.widget-view+json": {
       "model_id": "3ca23dc2969c410ca409eb6f87c131b7",
       "version_major": 2,
       "version_minor": 0
      },
      "text/plain": [
       "VBox()"
      ]
     },
     "metadata": {},
     "output_type": "display_data"
    },
    {
     "data": {
      "application/vnd.jupyter.widget-view+json": {
       "model_id": "",
       "version_major": 2,
       "version_minor": 0
      },
      "text/plain": [
       "FloatProgress(value=0.0, bar_style='info', description='Progress:', layout=Layout(height='25px', width='50%'),…"
      ]
     },
     "metadata": {},
     "output_type": "display_data"
    }
   ],
   "source": [
    "# Code check cell\n",
    "# Do not edit cells with assert commands\n",
    "# If an error is shown after running this cell, please recheck your code.\n",
    "\n",
    "assert raw_recipes_df.schema[\"carbohydrates_PDV\"].dataType == FloatType(\n",
    "), \"Recheck your typecasting\"\n",
    "assert raw_recipes_df.collect(\n",
    ")[123432][14] == 62.0, \"The columns have not been split correctly.\"\n",
    "assert raw_recipes_df.collect(\n",
    ")[10000][12] == 60.400001525878906, \"The columns have not been split correctly.\""
   ]
  },
  {
   "cell_type": "markdown",
   "id": "55662bc0",
   "metadata": {
    "id": "55662bc0"
   },
   "source": [
    "## <font color='Teal'>Task 03: Standardize the nutrition values </font>"
   ]
  },
  {
   "cell_type": "markdown",
   "id": "0eb0277c",
   "metadata": {
    "id": "0eb0277c"
   },
   "source": [
    "## Make nutrition-per-100 calorie columns\n",
    "\n",
    "By converting the nutrition values from absolute to relative terms, we ensure that portion size is not a factor in the analysis. \n"
   ]
  },
  {
   "cell_type": "markdown",
   "id": "8ac526a5",
   "metadata": {
    "id": "8ac526a5"
   },
   "source": [
    "Naming convention: Original column name ```total fat (PDV)```, column name after column ```total_fat_per_100_cal```"
   ]
  },
  {
   "cell_type": "markdown",
   "id": "28dd54ed",
   "metadata": {
    "id": "28dd54ed"
   },
   "source": [
    "<font color='Teal'>\n",
    "The current values for nutrition columns are not on the same scale. \n",
    "Ask is to standardize the nutrition columns using calories as the base of standardization. \n",
    "\n",
    "Convert the nutrition from absolute values to per 100 calorie values. \n",
    "</font>"
   ]
  },
  {
   "cell_type": "markdown",
   "id": "40ca70f8",
   "metadata": {
    "id": "40ca70f8"
   },
   "source": [
    "<font color='Teal'>\n",
    "    \n",
    "We will use the  ```sugar (PDV)``` column to demonstrate the calculations for standardization.  \n",
    "\n",
    "</font>"
   ]
  },
  {
   "cell_type": "markdown",
   "id": "22596e49",
   "metadata": {
    "id": "22596e49"
   },
   "source": [
    "<font color='Teal'>\n",
    "    \n",
    "**Sample Calculation**\n",
    "\n",
    "Before transformation: ```sugar (PDV)``` for recipe id 137739 = 13.0\n",
    "\n",
    "Calories in the recipe recipe id 137739                       = 51.5\n",
    "\n",
    "Calculation:  \n",
    "sugar_per_100_cal = 13.0 * 100 / 51.5 \n",
    "\n",
    "After transformation ```sugar_per_100_cal``` = 25.24\n",
    "    \n",
    "</font>"
   ]
  },
  {
   "cell_type": "markdown",
   "id": "3affae2f",
   "metadata": {
    "id": "3affae2f"
   },
   "source": [
    "### <font color='blue'>Solution to Task 3 </font>"
   ]
  },
  {
   "cell_type": "markdown",
   "id": "56ee388a",
   "metadata": {
    "id": "56ee388a"
   },
   "source": [
    "<font color='blue'>Complete the code in the following cell</font>"
   ]
  },
  {
   "cell_type": "code",
   "execution_count": 13,
   "id": "237faab1",
   "metadata": {
    "colab": {
     "base_uri": "https://localhost:8080/"
    },
    "execution": {
     "iopub.execute_input": "2022-12-17T06:24:44.175309Z",
     "iopub.status.busy": "2022-12-17T06:24:44.174989Z",
     "iopub.status.idle": "2022-12-17T06:24:44.950750Z",
     "shell.execute_reply": "2022-12-17T06:24:44.949674Z",
     "shell.execute_reply.started": "2022-12-17T06:24:44.175278Z"
    },
    "executionInfo": {
     "elapsed": 1675,
     "status": "ok",
     "timestamp": 1671251959316,
     "user": {
      "displayName": "selva kumar",
      "userId": "14603636916965685349"
     },
     "user_tz": -330
    },
    "id": "237faab1",
    "outputId": "90910611-5e43-4b1f-ea94-50e6679036e8",
    "tags": []
   },
   "outputs": [
    {
     "data": {
      "application/vnd.jupyter.widget-view+json": {
       "model_id": "03ad8436cfc447c3b4f0d90b848b9da5",
       "version_major": 2,
       "version_minor": 0
      },
      "text/plain": [
       "VBox()"
      ]
     },
     "metadata": {},
     "output_type": "display_data"
    },
    {
     "data": {
      "application/vnd.jupyter.widget-view+json": {
       "model_id": "",
       "version_major": 2,
       "version_minor": 0
      },
      "text/plain": [
       "FloatProgress(value=0.0, bar_style='info', description='Progress:', layout=Layout(height='25px', width='50%'),…"
      ]
     },
     "metadata": {},
     "output_type": "display_data"
    },
    {
     "name": "stdout",
     "output_type": "stream",
     "text": [
      "+--------------------+------+-------+--------------+--------------+--------------------+--------------------+-------+--------------------+--------------------+--------------------+-------------+--------+-------------+---------+----------+-----------+-----------------+-----------------+---------------------+-----------------+------------------+-------------------+-------------------------+-------------------------+\n",
      "|                name|    id|minutes|contributor_id|submitted_date|                tags|           nutrition|n_steps|               steps|         description|         ingredients|n_ingredients|calories|total_fat_PDV|sugar_PDV|sodium_PDV|protein_PDV|saturated_fat_PDV|carbohydrates_PDV|total_fat_per_100_cal|sugar_per_100_cal|sodium_per_100_cal|protein_per_100_cal|saturated_fat_per_100_cal|carbohydrates_per_100_cal|\n",
      "+--------------------+------+-------+--------------+--------------+--------------------+--------------------+-------+--------------------+--------------------+--------------------+-------------+--------+-------------+---------+----------+-----------+-----------------+-----------------+---------------------+-----------------+------------------+-------------------+-------------------------+-------------------------+\n",
      "|arriba   baked wi...|137739|     55|         47892|    2005-09-16|['60-minutes-or-l...|51.5, 0.0, 13.0, ...|     11|['make a choice a...|autumn is my favo...|['winter squash',...|            7|    51.5|          0.0|     13.0|       0.0|        2.0|              0.0|              4.0|                  0.0|            25.24|               0.0|               3.88|                      0.0|                     7.77|\n",
      "|a bit different  ...| 31490|     30|         26278|    2002-06-17|['30-minutes-or-l...|173.4, 18.0, 0.0,...|      9|['preheat oven to...|this recipe calls...|['prepared pizza ...|            6|   173.4|         18.0|      0.0|      17.0|       22.0|             35.0|              1.0|                10.38|              0.0|               9.8|              12.69|                    20.18|                     0.58|\n",
      "|all in the kitche...|112140|    130|        196586|    2005-02-25|['time-to-make', ...|269.8, 22.0, 32.0...|      6|['brown ground be...|this modified ver...|['ground beef', '...|           13|   269.8|         22.0|     32.0|      48.0|       39.0|             27.0|              5.0|                 8.15|            11.86|             17.79|              14.46|                    10.01|                     1.85|\n",
      "|  alouette  potatoes| 59389|     45|         68585|    2003-04-14|['60-minutes-or-l...|368.1, 17.0, 10.0...|     11|['place potatoes ...|this is a super e...|['spreadable chee...|           11|   368.1|         17.0|     10.0|       2.0|       14.0|              8.0|             20.0|                 4.62|             2.72|              0.54|                3.8|                     2.17|                     5.43|\n",
      "|amish  tomato ket...| 44061|    190|         41706|    2002-10-25|['weeknight', 'ti...|352.9, 1.0, 337.0...|      5|['mix all ingredi...|my dh's amish mot...|['tomato juice', ...|            8|   352.9|          1.0|    337.0|      23.0|        3.0|              0.0|             28.0|                 0.28|            95.49|              6.52|               0.85|                      0.0|                     7.93|\n",
      "+--------------------+------+-------+--------------+--------------+--------------------+--------------------+-------+--------------------+--------------------+--------------------+-------------+--------+-------------+---------+----------+-----------+-----------------+-----------------+---------------------+-----------------+------------------+-------------------+-------------------------+-------------------------+\n",
      "only showing top 5 rows"
     ]
    }
   ],
   "source": [
    "# Task 03 Cell 1 out of 1\n",
    "\n",
    "for col_index, col_name in enumerate(nutrition_column_names):\n",
    "    if col_name != 'calories':\n",
    "        nutrition_per_100_cal_col = col_name.replace('_PDV', '_per_100_cal')\n",
    "\n",
    "        raw_recipes_df = raw_recipes_df.withColumn(\n",
    "            nutrition_per_100_cal_col,\n",
    "            F.round(raw_recipes_df[col_name] * 100 / raw_recipes_df['calories'],\n",
    "                    2))\n",
    "\n",
    "        # You might end up adding nulls to the data because of our intended transformation.\n",
    "        # Perform a fill na operation to fill all the nulls with 0s.\n",
    "        # You must limit the scope of the fill na to the current column only.\n",
    "\n",
    "        raw_recipes_df = raw_recipes_df.fillna(value=0.0,\n",
    "                                               subset=nutrition_per_100_cal_col)\n",
    "raw_recipes_df.show(5)"
   ]
  },
  {
   "cell_type": "markdown",
   "id": "d2656a22",
   "metadata": {
    "id": "d2656a22"
   },
   "source": [
    "**Test cases for Task 03**"
   ]
  },
  {
   "cell_type": "code",
   "execution_count": 14,
   "id": "8a97ad4c",
   "metadata": {
    "execution": {
     "iopub.execute_input": "2022-12-17T06:24:44.952249Z",
     "iopub.status.busy": "2022-12-17T06:24:44.951963Z",
     "iopub.status.idle": "2022-12-17T06:24:54.645964Z",
     "shell.execute_reply": "2022-12-17T06:24:54.644980Z",
     "shell.execute_reply.started": "2022-12-17T06:24:44.952218Z"
    },
    "executionInfo": {
     "elapsed": 17997,
     "status": "ok",
     "timestamp": 1671251977311,
     "user": {
      "displayName": "selva kumar",
      "userId": "14603636916965685349"
     },
     "user_tz": -330
    },
    "id": "8a97ad4c",
    "tags": []
   },
   "outputs": [
    {
     "data": {
      "application/vnd.jupyter.widget-view+json": {
       "model_id": "5655ccc20c584146804f400259590858",
       "version_major": 2,
       "version_minor": 0
      },
      "text/plain": [
       "VBox()"
      ]
     },
     "metadata": {},
     "output_type": "display_data"
    },
    {
     "data": {
      "application/vnd.jupyter.widget-view+json": {
       "model_id": "",
       "version_major": 2,
       "version_minor": 0
      },
      "text/plain": [
       "FloatProgress(value=0.0, bar_style='info', description='Progress:', layout=Layout(height='25px', width='50%'),…"
      ]
     },
     "metadata": {},
     "output_type": "display_data"
    }
   ],
   "source": [
    "# total fat check for id 28881\n",
    "assert raw_recipes_df.filter(\"id == 28881\").select(\n",
    "    'total_fat_per_100_cal').first(\n",
    "    )[0] == 0, \"total_fat_per_100_cal for recipe 28881 should be 0\"\n",
    "\n",
    "# total fat check for id 112140\n",
    "assert round(\n",
    "    raw_recipes_df.filter(\"id == 112140\").select('total_fat_per_100_cal').first(\n",
    "    )[0]) == 8, \"total_fat_per_100_cal for recipe 112140 should be 8\"\n",
    "\n",
    "# checking for nulls\n",
    "for c in [\n",
    "        'total_fat_per_100_cal', 'sugar_per_100_cal', 'sodium_per_100_cal',\n",
    "        'protein_per_100_cal', 'saturated_fat_per_100_cal',\n",
    "        'carbohydrates_per_100_cal'\n",
    "]:\n",
    "    assert raw_recipes_df.select(\n",
    "        F.count(F.when(\n",
    "            F.isnan(c) | F.col(c).isNull(),\n",
    "            c)).alias(c)).collect()[0][0] == 0, \"There are Nulls in the data\""
   ]
  },
  {
   "cell_type": "markdown",
   "id": "2bd6ac1d",
   "metadata": {
    "id": "2bd6ac1d"
   },
   "source": [
    "## <font color='Teal'>Task 04: Convert the tags column from a string to an array of strings </font>"
   ]
  },
  {
   "cell_type": "markdown",
   "id": "41905c76",
   "metadata": {
    "id": "41905c76"
   },
   "source": [
    "<font color='Teal'>\n",
    "    \n",
    "Currently, the tags column is a string column but holds an array of strings. \n",
    "\n",
    "Your task is to convert the tags columns from a string to an array of strings. \n",
    "    \n",
    "</font>"
   ]
  },
  {
   "cell_type": "markdown",
   "id": "08470494",
   "metadata": {
    "id": "08470494"
   },
   "source": [
    "<font color='Teal'>\n",
    "\n",
    "Remove ```[``` ```]``` ```'``` punctuation marks from the tags column. \n",
    "Split the tags column based on the comma delimiter. \n",
    "    \n",
    "\n",
    "</font>"
   ]
  },
  {
   "cell_type": "markdown",
   "id": "e7fe1ba7",
   "metadata": {
    "id": "e7fe1ba7"
   },
   "source": [
    "<font color='Teal'> We have included some test cases given below. You can use them to check if you have completed the task correctly.  </font>"
   ]
  },
  {
   "cell_type": "markdown",
   "id": "a7580844",
   "metadata": {
    "id": "a7580844"
   },
   "source": [
    "### <font color='blue'>Solution to Task 4 </font>"
   ]
  },
  {
   "cell_type": "code",
   "execution_count": 15,
   "id": "c749ab84",
   "metadata": {
    "colab": {
     "base_uri": "https://localhost:8080/"
    },
    "execution": {
     "iopub.execute_input": "2022-12-17T06:24:54.647500Z",
     "iopub.status.busy": "2022-12-17T06:24:54.647169Z",
     "iopub.status.idle": "2022-12-17T06:24:54.913503Z",
     "shell.execute_reply": "2022-12-17T06:24:54.912655Z",
     "shell.execute_reply.started": "2022-12-17T06:24:54.647468Z"
    },
    "executionInfo": {
     "elapsed": 12,
     "status": "ok",
     "timestamp": 1671251977311,
     "user": {
      "displayName": "selva kumar",
      "userId": "14603636916965685349"
     },
     "user_tz": -330
    },
    "id": "c749ab84",
    "outputId": "48d8dd35-0867-4111-b1a5-754308eb1965",
    "tags": []
   },
   "outputs": [
    {
     "data": {
      "application/vnd.jupyter.widget-view+json": {
       "model_id": "0744abb214fa4d11895d60be78771290",
       "version_major": 2,
       "version_minor": 0
      },
      "text/plain": [
       "VBox()"
      ]
     },
     "metadata": {},
     "output_type": "display_data"
    },
    {
     "data": {
      "application/vnd.jupyter.widget-view+json": {
       "model_id": "",
       "version_major": 2,
       "version_minor": 0
      },
      "text/plain": [
       "FloatProgress(value=0.0, bar_style='info', description='Progress:', layout=Layout(height='25px', width='50%'),…"
      ]
     },
     "metadata": {},
     "output_type": "display_data"
    },
    {
     "name": "stdout",
     "output_type": "stream",
     "text": [
      "root\n",
      " |-- name: string (nullable = true)\n",
      " |-- id: integer (nullable = true)\n",
      " |-- minutes: integer (nullable = true)\n",
      " |-- contributor_id: integer (nullable = true)\n",
      " |-- submitted_date: date (nullable = true)\n",
      " |-- tags: array (nullable = true)\n",
      " |    |-- element: string (containsNull = false)\n",
      " |-- nutrition: string (nullable = true)\n",
      " |-- n_steps: integer (nullable = true)\n",
      " |-- steps: string (nullable = true)\n",
      " |-- description: string (nullable = true)\n",
      " |-- ingredients: string (nullable = true)\n",
      " |-- n_ingredients: integer (nullable = true)\n",
      " |-- calories: float (nullable = true)\n",
      " |-- total_fat_PDV: float (nullable = true)\n",
      " |-- sugar_PDV: float (nullable = true)\n",
      " |-- sodium_PDV: float (nullable = true)\n",
      " |-- protein_PDV: float (nullable = true)\n",
      " |-- saturated_fat_PDV: float (nullable = true)\n",
      " |-- carbohydrates_PDV: float (nullable = true)\n",
      " |-- total_fat_per_100_cal: double (nullable = false)\n",
      " |-- sugar_per_100_cal: double (nullable = false)\n",
      " |-- sodium_per_100_cal: double (nullable = false)\n",
      " |-- protein_per_100_cal: double (nullable = false)\n",
      " |-- saturated_fat_per_100_cal: double (nullable = false)\n",
      " |-- carbohydrates_per_100_cal: double (nullable = false)"
     ]
    }
   ],
   "source": [
    "# Task 04 Cell 1 out of 1\n",
    "\n",
    "raw_recipes_df = (\n",
    "                    raw_recipes_df.withColumn('tags', F.regexp_replace('tags', \"[\\\\]\\\\[' ]\",''))\n",
    "                                .withColumn('tags', F.split(F.col('tags'), ','))\n",
    "                 )\n",
    "raw_recipes_df.printSchema()"
   ]
  },
  {
   "cell_type": "markdown",
   "id": "abea8362",
   "metadata": {
    "id": "abea8362"
   },
   "source": [
    "**Test cases for Task 04**"
   ]
  },
  {
   "cell_type": "code",
   "execution_count": 16,
   "id": "4a841dc7-e37d-46ef-a22e-e34bcdf34f80",
   "metadata": {
    "execution": {
     "iopub.execute_input": "2022-12-17T06:24:54.914901Z",
     "iopub.status.busy": "2022-12-17T06:24:54.914615Z",
     "iopub.status.idle": "2022-12-17T06:24:54.974210Z",
     "shell.execute_reply": "2022-12-17T06:24:54.973356Z",
     "shell.execute_reply.started": "2022-12-17T06:24:54.914865Z"
    },
    "tags": []
   },
   "outputs": [
    {
     "data": {
      "application/vnd.jupyter.widget-view+json": {
       "model_id": "c947e821b5574d4f91d2936834f50a9f",
       "version_major": 2,
       "version_minor": 0
      },
      "text/plain": [
       "VBox()"
      ]
     },
     "metadata": {},
     "output_type": "display_data"
    },
    {
     "data": {
      "application/vnd.jupyter.widget-view+json": {
       "model_id": "",
       "version_major": 2,
       "version_minor": 0
      },
      "text/plain": [
       "FloatProgress(value=0.0, bar_style='info', description='Progress:', layout=Layout(height='25px', width='50%'),…"
      ]
     },
     "metadata": {},
     "output_type": "display_data"
    },
    {
     "name": "stdout",
     "output_type": "stream",
     "text": [
      "ArrayType(StringType(), False)"
     ]
    }
   ],
   "source": [
    "raw_recipes_df.schema[\"tags\"].dataType"
   ]
  },
  {
   "cell_type": "code",
   "execution_count": 17,
   "id": "493f28b6",
   "metadata": {
    "execution": {
     "iopub.execute_input": "2022-12-17T06:24:54.975572Z",
     "iopub.status.busy": "2022-12-17T06:24:54.975290Z",
     "iopub.status.idle": "2022-12-17T06:25:06.374502Z",
     "shell.execute_reply": "2022-12-17T06:25:06.373056Z",
     "shell.execute_reply.started": "2022-12-17T06:24:54.975541Z"
    },
    "executionInfo": {
     "elapsed": 12,
     "status": "ok",
     "timestamp": 1671251977312,
     "user": {
      "displayName": "selva kumar",
      "userId": "14603636916965685349"
     },
     "user_tz": -330
    },
    "id": "493f28b6",
    "tags": []
   },
   "outputs": [
    {
     "data": {
      "application/vnd.jupyter.widget-view+json": {
       "model_id": "51fc346810f44c1e956d8b23d39b0e04",
       "version_major": 2,
       "version_minor": 0
      },
      "text/plain": [
       "VBox()"
      ]
     },
     "metadata": {},
     "output_type": "display_data"
    },
    {
     "data": {
      "application/vnd.jupyter.widget-view+json": {
       "model_id": "",
       "version_major": 2,
       "version_minor": 0
      },
      "text/plain": [
       "FloatProgress(value=0.0, bar_style='info', description='Progress:', layout=Layout(height='25px', width='50%'),…"
      ]
     },
     "metadata": {},
     "output_type": "display_data"
    }
   ],
   "source": [
    "# Code check cell\n",
    "# Do not edit cells with assert commands\n",
    "# If an error is shown after running this cell, please recheck your code.\n",
    "\n",
    "assert raw_recipes_df.schema[\"tags\"].dataType == ArrayType(\n",
    "    StringType(), False), \"You have not split the string into an array.\"\n",
    "assert raw_recipes_df.collect()[2][5] == [\n",
    "    'time-to-make', 'course', 'preparation', 'main-dish', 'chili',\n",
    "    'crock-pot-slow-cooker', 'dietary', 'equipment', '4-hours-or-less'\n",
    "], \"Recheck your string cleaning and splitting operations.\";"
   ]
  },
  {
   "cell_type": "markdown",
   "id": "923e5db1",
   "metadata": {
    "id": "923e5db1"
   },
   "source": [
    "#### <font color='Teal'>If all test cases pass task 04 ends </font>"
   ]
  },
  {
   "cell_type": "markdown",
   "id": "9e6335b6",
   "metadata": {
    "id": "9e6335b6"
   },
   "source": [
    "## <font color='Teal'>Task 05: Read the second data file </font>"
   ]
  },
  {
   "cell_type": "markdown",
   "id": "96e3185b",
   "metadata": {
    "id": "96e3185b"
   },
   "source": [
    "## Join Recipe Data to Review Data"
   ]
  },
  {
   "cell_type": "code",
   "execution_count": 18,
   "id": "gZmaFjhQ3klr",
   "metadata": {
    "execution": {
     "iopub.execute_input": "2022-12-17T06:25:06.376027Z",
     "iopub.status.busy": "2022-12-17T06:25:06.375734Z",
     "iopub.status.idle": "2022-12-17T06:25:08.679371Z",
     "shell.execute_reply": "2022-12-17T06:25:08.678384Z",
     "shell.execute_reply.started": "2022-12-17T06:25:06.375996Z"
    },
    "executionInfo": {
     "elapsed": 10959,
     "status": "ok",
     "timestamp": 1671251988260,
     "user": {
      "displayName": "selva kumar",
      "userId": "14603636916965685349"
     },
     "user_tz": -330
    },
    "id": "gZmaFjhQ3klr",
    "tags": []
   },
   "outputs": [
    {
     "data": {
      "application/vnd.jupyter.widget-view+json": {
       "model_id": "2bb8d6b29a88461a9efddc9fc83d98e3",
       "version_major": 2,
       "version_minor": 0
      },
      "text/plain": [
       "VBox()"
      ]
     },
     "metadata": {},
     "output_type": "display_data"
    },
    {
     "data": {
      "application/vnd.jupyter.widget-view+json": {
       "model_id": "",
       "version_major": 2,
       "version_minor": 0
      },
      "text/plain": [
       "FloatProgress(value=0.0, bar_style='info', description='Progress:', layout=Layout(height='25px', width='50%'),…"
      ]
     },
     "metadata": {},
     "output_type": "display_data"
    }
   ],
   "source": [
    "# Reading the second data set.\n",
    "# keep this cell unedited\n",
    "\n",
    "raw_ratings_df = (spark.read.csv(\n",
    "    \"s3://aws-emr-resources-362601132439-us-east-1/notebooks/e-6EQ18VWH4ISJJBY68567ZT0TX/RAW_interactions_cleaned.csv\",\n",
    "    header=True,\n",
    "    inferSchema=True).withColumnRenamed(\"date\", \"review_date\"))"
   ]
  },
  {
   "cell_type": "code",
   "execution_count": 19,
   "id": "31b18096",
   "metadata": {
    "colab": {
     "base_uri": "https://localhost:8080/"
    },
    "execution": {
     "iopub.execute_input": "2022-12-17T06:25:08.680905Z",
     "iopub.status.busy": "2022-12-17T06:25:08.680603Z",
     "iopub.status.idle": "2022-12-17T06:25:09.081279Z",
     "shell.execute_reply": "2022-12-17T06:25:09.080413Z",
     "shell.execute_reply.started": "2022-12-17T06:25:08.680874Z"
    },
    "executionInfo": {
     "elapsed": 4,
     "status": "ok",
     "timestamp": 1671251988261,
     "user": {
      "displayName": "selva kumar",
      "userId": "14603636916965685349"
     },
     "user_tz": -330
    },
    "id": "31b18096",
    "outputId": "ee025c1b-aa5e-43e0-8cf7-07a81dbfadd1",
    "tags": []
   },
   "outputs": [
    {
     "data": {
      "application/vnd.jupyter.widget-view+json": {
       "model_id": "e46ee5b20ede4546b71a29817ceae400",
       "version_major": 2,
       "version_minor": 0
      },
      "text/plain": [
       "VBox()"
      ]
     },
     "metadata": {},
     "output_type": "display_data"
    },
    {
     "data": {
      "application/vnd.jupyter.widget-view+json": {
       "model_id": "",
       "version_major": 2,
       "version_minor": 0
      },
      "text/plain": [
       "FloatProgress(value=0.0, bar_style='info', description='Progress:', layout=Layout(height='25px', width='50%'),…"
      ]
     },
     "metadata": {},
     "output_type": "display_data"
    },
    {
     "name": "stdout",
     "output_type": "stream",
     "text": [
      "root\n",
      " |-- user_id: integer (nullable = true)\n",
      " |-- recipe_id: integer (nullable = true)\n",
      " |-- review_date: date (nullable = true)\n",
      " |-- rating: integer (nullable = true)\n",
      " |-- review: string (nullable = true)\n",
      "\n",
      "+-------+---------+-----------+------+--------------------+\n",
      "|user_id|recipe_id|review_date|rating|              review|\n",
      "+-------+---------+-----------+------+--------------------+\n",
      "|  38094|    40893| 2003-02-17|     4|Great with a sala...|\n",
      "|1293707|    40893| 2011-12-21|     5|So simple  so del...|\n",
      "|   8937|    44394| 2002-12-01|     4|This worked very ...|\n",
      "| 126440|    85009| 2010-02-27|     5|I made the Mexica...|\n",
      "|  57222|    85009| 2011-10-01|     5|Made the cheddar ...|\n",
      "+-------+---------+-----------+------+--------------------+\n",
      "only showing top 5 rows"
     ]
    }
   ],
   "source": [
    "# Review _date is in string format, which we should convert  to date.\n",
    "\n",
    "raw_ratings_df = raw_ratings_df.withColumn('review_date',\n",
    "                                           F.col('review_date').cast('date'))\n",
    "\n",
    "raw_ratings_df.printSchema()\n",
    "raw_ratings_df.show(5)"
   ]
  },
  {
   "cell_type": "code",
   "execution_count": 20,
   "id": "f4e8cac9",
   "metadata": {
    "execution": {
     "iopub.execute_input": "2022-12-17T06:25:09.082756Z",
     "iopub.status.busy": "2022-12-17T06:25:09.082465Z",
     "iopub.status.idle": "2022-12-17T06:25:11.386085Z",
     "shell.execute_reply": "2022-12-17T06:25:11.384373Z",
     "shell.execute_reply.started": "2022-12-17T06:25:09.082724Z"
    },
    "executionInfo": {
     "elapsed": 2425,
     "status": "ok",
     "timestamp": 1671251990683,
     "user": {
      "displayName": "selva kumar",
      "userId": "14603636916965685349"
     },
     "user_tz": -330
    },
    "id": "f4e8cac9",
    "tags": []
   },
   "outputs": [
    {
     "data": {
      "application/vnd.jupyter.widget-view+json": {
       "model_id": "a54e86daec7e4308a84973d8497ea98b",
       "version_major": 2,
       "version_minor": 0
      },
      "text/plain": [
       "VBox()"
      ]
     },
     "metadata": {},
     "output_type": "display_data"
    },
    {
     "data": {
      "application/vnd.jupyter.widget-view+json": {
       "model_id": "",
       "version_major": 2,
       "version_minor": 0
      },
      "text/plain": [
       "FloatProgress(value=0.0, bar_style='info', description='Progress:', layout=Layout(height='25px', width='50%'),…"
      ]
     },
     "metadata": {},
     "output_type": "display_data"
    }
   ],
   "source": [
    "# Code check cell\n",
    "# Do not edit cells with assert commands\n",
    "# If an error is shown after running this cell, please recheck your code.\n",
    "\n",
    "assert raw_ratings_df.count(\n",
    ") == 1132367, \"There is a mistake in reading the data.\"\n",
    "assert len(\n",
    "    raw_ratings_df.columns) == 5, \"There is a mistake in reading the data.\""
   ]
  },
  {
   "cell_type": "markdown",
   "id": "4f87f2f0",
   "metadata": {
    "id": "4f87f2f0"
   },
   "source": [
    "### <font color='blue'>Solution to Task 5 </font>\n",
    "\n",
    "<font color='blue'>Complete the code in the following cell</font>"
   ]
  },
  {
   "cell_type": "code",
   "execution_count": 21,
   "id": "800f2ecc",
   "metadata": {
    "execution": {
     "iopub.execute_input": "2022-12-17T06:25:11.387621Z",
     "iopub.status.busy": "2022-12-17T06:25:11.387338Z",
     "iopub.status.idle": "2022-12-17T06:25:11.855682Z",
     "shell.execute_reply": "2022-12-17T06:25:11.854729Z",
     "shell.execute_reply.started": "2022-12-17T06:25:11.387590Z"
    },
    "executionInfo": {
     "elapsed": 4,
     "status": "ok",
     "timestamp": 1671251990683,
     "user": {
      "displayName": "selva kumar",
      "userId": "14603636916965685349"
     },
     "user_tz": -330
    },
    "id": "800f2ecc",
    "tags": []
   },
   "outputs": [
    {
     "data": {
      "application/vnd.jupyter.widget-view+json": {
       "model_id": "c1f61fad2b364800a72de2917987fe22",
       "version_major": 2,
       "version_minor": 0
      },
      "text/plain": [
       "VBox()"
      ]
     },
     "metadata": {},
     "output_type": "display_data"
    },
    {
     "data": {
      "application/vnd.jupyter.widget-view+json": {
       "model_id": "",
       "version_major": 2,
       "version_minor": 0
      },
      "text/plain": [
       "FloatProgress(value=0.0, bar_style='info', description='Progress:', layout=Layout(height='25px', width='50%'),…"
      ]
     },
     "metadata": {},
     "output_type": "display_data"
    }
   ],
   "source": [
    "# Task 05 Cell 1 out of 1\n",
    "\n",
    "interaction_level_df = raw_ratings_df.join(\n",
    "    raw_recipes_df, raw_recipes_df.id == raw_ratings_df.recipe_id, \"inner\")"
   ]
  },
  {
   "cell_type": "markdown",
   "id": "1a20faf3",
   "metadata": {
    "id": "1a20faf3"
   },
   "source": [
    "**Test cases for Task 05**"
   ]
  },
  {
   "cell_type": "code",
   "execution_count": 22,
   "id": "7a59d3cb",
   "metadata": {
    "execution": {
     "iopub.execute_input": "2022-12-17T06:25:11.857114Z",
     "iopub.status.busy": "2022-12-17T06:25:11.856820Z",
     "iopub.status.idle": "2022-12-17T06:25:23.402849Z",
     "shell.execute_reply": "2022-12-17T06:25:23.401966Z",
     "shell.execute_reply.started": "2022-12-17T06:25:11.857082Z"
    },
    "executionInfo": {
     "elapsed": 24291,
     "status": "ok",
     "timestamp": 1671252014970,
     "user": {
      "displayName": "selva kumar",
      "userId": "14603636916965685349"
     },
     "user_tz": -330
    },
    "id": "7a59d3cb",
    "tags": []
   },
   "outputs": [
    {
     "data": {
      "application/vnd.jupyter.widget-view+json": {
       "model_id": "7feebfc3369744dcafcbe1f38c9d55b6",
       "version_major": 2,
       "version_minor": 0
      },
      "text/plain": [
       "VBox()"
      ]
     },
     "metadata": {},
     "output_type": "display_data"
    },
    {
     "data": {
      "application/vnd.jupyter.widget-view+json": {
       "model_id": "",
       "version_major": 2,
       "version_minor": 0
      },
      "text/plain": [
       "FloatProgress(value=0.0, bar_style='info', description='Progress:', layout=Layout(height='25px', width='50%'),…"
      ]
     },
     "metadata": {},
     "output_type": "display_data"
    }
   ],
   "source": [
    "# Code check cell\n",
    "# Do not edit cells with assert commands\n",
    "# If an error is shown after running this cell, please recheck your code.\n",
    "\n",
    "assert (interaction_level_df.count(), len(\n",
    "    interaction_level_df.columns)) == (1132367,\n",
    "                                       30), \"The type of join is incorrect\"\n",
    "\n",
    "list1 = raw_ratings_df.select('recipe_id').collect()\n",
    "list2 = raw_recipes_df.select('id').collect()\n",
    "exclusive_set = set(list1) - set(list2)\n",
    "\n",
    "assert len(exclusive_set\n",
    "          ) == 0, \"There is a mistake in reading one of the two data files.\""
   ]
  },
  {
   "cell_type": "markdown",
   "id": "0b84f908",
   "metadata": {
    "id": "0b84f908"
   },
   "source": [
    "#### <font color='Teal'>If all test cases pass task 05 ends </font>"
   ]
  },
  {
   "cell_type": "markdown",
   "id": "470302a4",
   "metadata": {
    "id": "470302a4"
   },
   "source": [
    "## <font color='Teal'>Task 06:  Create time-based features</font>\n"
   ]
  },
  {
   "cell_type": "markdown",
   "id": "41a69cd3",
   "metadata": {
    "id": "41a69cd3"
   },
   "source": [
    "<font color='Teal'>\n",
    "\n",
    "Use review date and submission date to derive new features:\n",
    "1. ```days_since_submission_on_review_date``` Number of days between the recipe submission and the current review.  \n",
    "2. ```months_since_submission_on_review_date``` Number of months between the recipe submission and the current review. \n",
    "3. ```years_since_submission_on_review_date```Number of years between the recipe submission and the current review. \n",
    "\n",
    "</font>"
   ]
  },
  {
   "cell_type": "markdown",
   "id": "dc67d3ac",
   "metadata": {
    "id": "dc67d3ac"
   },
   "source": [
    "### <font color='blue'>Solution to Task 6 </font>\n",
    "\n",
    "<font color='blue'>Complete the code in the following cell</font>"
   ]
  },
  {
   "cell_type": "code",
   "execution_count": 23,
   "id": "tYtbbJ4pJsZc",
   "metadata": {
    "colab": {
     "base_uri": "https://localhost:8080/"
    },
    "execution": {
     "iopub.execute_input": "2022-12-17T06:25:23.407141Z",
     "iopub.status.busy": "2022-12-17T06:25:23.406845Z",
     "iopub.status.idle": "2022-12-17T06:25:23.468143Z",
     "shell.execute_reply": "2022-12-17T06:25:23.467199Z",
     "shell.execute_reply.started": "2022-12-17T06:25:23.407109Z"
    },
    "executionInfo": {
     "elapsed": 12,
     "status": "ok",
     "timestamp": 1671252014971,
     "user": {
      "displayName": "selva kumar",
      "userId": "14603636916965685349"
     },
     "user_tz": -330
    },
    "id": "tYtbbJ4pJsZc",
    "outputId": "185604d5-29e2-420c-950d-9bcb200fcfb1",
    "tags": []
   },
   "outputs": [
    {
     "data": {
      "application/vnd.jupyter.widget-view+json": {
       "model_id": "eb63260b43f1476e8a8b126ec097f7df",
       "version_major": 2,
       "version_minor": 0
      },
      "text/plain": [
       "VBox()"
      ]
     },
     "metadata": {},
     "output_type": "display_data"
    },
    {
     "data": {
      "application/vnd.jupyter.widget-view+json": {
       "model_id": "",
       "version_major": 2,
       "version_minor": 0
      },
      "text/plain": [
       "FloatProgress(value=0.0, bar_style='info', description='Progress:', layout=Layout(height='25px', width='50%'),…"
      ]
     },
     "metadata": {},
     "output_type": "display_data"
    },
    {
     "name": "stdout",
     "output_type": "stream",
     "text": [
      "root\n",
      " |-- user_id: integer (nullable = true)\n",
      " |-- recipe_id: integer (nullable = true)\n",
      " |-- review_date: date (nullable = true)\n",
      " |-- rating: integer (nullable = true)\n",
      " |-- review: string (nullable = true)\n",
      " |-- name: string (nullable = true)\n",
      " |-- id: integer (nullable = true)\n",
      " |-- minutes: integer (nullable = true)\n",
      " |-- contributor_id: integer (nullable = true)\n",
      " |-- submitted_date: date (nullable = true)\n",
      " |-- tags: array (nullable = true)\n",
      " |    |-- element: string (containsNull = false)\n",
      " |-- nutrition: string (nullable = true)\n",
      " |-- n_steps: integer (nullable = true)\n",
      " |-- steps: string (nullable = true)\n",
      " |-- description: string (nullable = true)\n",
      " |-- ingredients: string (nullable = true)\n",
      " |-- n_ingredients: integer (nullable = true)\n",
      " |-- calories: float (nullable = true)\n",
      " |-- total_fat_PDV: float (nullable = true)\n",
      " |-- sugar_PDV: float (nullable = true)\n",
      " |-- sodium_PDV: float (nullable = true)\n",
      " |-- protein_PDV: float (nullable = true)\n",
      " |-- saturated_fat_PDV: float (nullable = true)\n",
      " |-- carbohydrates_PDV: float (nullable = true)\n",
      " |-- total_fat_per_100_cal: double (nullable = false)\n",
      " |-- sugar_per_100_cal: double (nullable = false)\n",
      " |-- sodium_per_100_cal: double (nullable = false)\n",
      " |-- protein_per_100_cal: double (nullable = false)\n",
      " |-- saturated_fat_per_100_cal: double (nullable = false)\n",
      " |-- carbohydrates_per_100_cal: double (nullable = false)"
     ]
    }
   ],
   "source": [
    "interaction_level_df.printSchema()"
   ]
  },
  {
   "cell_type": "code",
   "execution_count": 24,
   "id": "dc2f5452",
   "metadata": {
    "colab": {
     "base_uri": "https://localhost:8080/"
    },
    "execution": {
     "iopub.execute_input": "2022-12-17T06:25:23.469925Z",
     "iopub.status.busy": "2022-12-17T06:25:23.469633Z",
     "iopub.status.idle": "2022-12-17T06:25:28.788317Z",
     "shell.execute_reply": "2022-12-17T06:25:28.787446Z",
     "shell.execute_reply.started": "2022-12-17T06:25:23.469893Z"
    },
    "executionInfo": {
     "elapsed": 26436,
     "status": "ok",
     "timestamp": 1671252041396,
     "user": {
      "displayName": "selva kumar",
      "userId": "14603636916965685349"
     },
     "user_tz": -330
    },
    "id": "dc2f5452",
    "outputId": "082547e9-146d-487d-a10e-6c09fdb73c04",
    "tags": []
   },
   "outputs": [
    {
     "data": {
      "application/vnd.jupyter.widget-view+json": {
       "model_id": "c1d653f10cd64f678b822b26c73392bf",
       "version_major": 2,
       "version_minor": 0
      },
      "text/plain": [
       "VBox()"
      ]
     },
     "metadata": {},
     "output_type": "display_data"
    },
    {
     "data": {
      "application/vnd.jupyter.widget-view+json": {
       "model_id": "",
       "version_major": 2,
       "version_minor": 0
      },
      "text/plain": [
       "FloatProgress(value=0.0, bar_style='info', description='Progress:', layout=Layout(height='25px', width='50%'),…"
      ]
     },
     "metadata": {},
     "output_type": "display_data"
    },
    {
     "name": "stdout",
     "output_type": "stream",
     "text": [
      "+-------+---------+-----------+------+--------------------+--------------------+---+-------+--------------+--------------+--------------------+--------------------+-------+--------------------+--------------------+--------------------+-------------+--------+-------------+---------+----------+-----------+-----------------+-----------------+---------------------+-----------------+------------------+-------------------+-------------------------+-------------------------+------------------------------------+--------------------------------------+-------------------------------------+\n",
      "|user_id|recipe_id|review_date|rating|              review|                name| id|minutes|contributor_id|submitted_date|                tags|           nutrition|n_steps|               steps|         description|         ingredients|n_ingredients|calories|total_fat_PDV|sugar_PDV|sodium_PDV|protein_PDV|saturated_fat_PDV|carbohydrates_PDV|total_fat_per_100_cal|sugar_per_100_cal|sodium_per_100_cal|protein_per_100_cal|saturated_fat_per_100_cal|carbohydrates_per_100_cal|days_since_submission_on_review_date|months_since_submission_on_review_date|years_since_submission_on_review_date|\n",
      "+-------+---------+-----------+------+--------------------+--------------------+---+-------+--------------+--------------+--------------------+--------------------+-------+--------------------+--------------------+--------------------+-------------+--------+-------------+---------+----------+-----------+-----------------+-----------------+---------------------+-----------------+------------------+-------------------+-------------------------+-------------------------+------------------------------------+--------------------------------------+-------------------------------------+\n",
      "| 269153|       81| 2006-03-09|     5|This is FANTASTIC...|all purpose quick...| 81|     40|        125579|    1999-09-10|[60-minutes-or-le...|529.3, 37.0, 1.0,...|     36|['blend flours , ...|--adopted recipe-...|['whole wheat flo...|            5|   529.3|         37.0|      1.0|      36.0|       22.0|             73.0|             23.0|                 6.99|             0.19|               6.8|               4.16|                    13.79|                     4.35|                                2372|                           77.96774194|                    6.497311828333333|\n",
      "| 985729|       81| 2010-05-23|     5|I have made sever...|all purpose quick...| 81|     40|        125579|    1999-09-10|[60-minutes-or-le...|529.3, 37.0, 1.0,...|     36|['blend flours , ...|--adopted recipe-...|['whole wheat flo...|            5|   529.3|         37.0|      1.0|      36.0|       22.0|             73.0|             23.0|                 6.99|             0.19|               6.8|               4.16|                    13.79|                     4.35|                                3908|                          128.41935484|                   10.701612903333334|\n",
      "| 985823|      122| 2010-05-25|     5|Awesome is what c...|commissary carrot...|122|    240|          1589|    1999-09-09|[weeknight, time-...|1011.8, 103.0, 32...|     34|['in a heavy sauc...|best in the world...|['sugar', 'flour'...|           18|  1011.8|        103.0|    320.0|      16.0|       14.0|            141.0|             33.0|                10.18|            31.63|              1.58|               1.38|                    13.94|                     3.26|                                3911|                          128.51612903|                   10.709677419166667|\n",
      "|1294602|      122| 2010-07-12|     5|I use this recipe...|commissary carrot...|122|    240|          1589|    1999-09-09|[weeknight, time-...|1011.8, 103.0, 32...|     34|['in a heavy sauc...|best in the world...|['sugar', 'flour'...|           18|  1011.8|        103.0|    320.0|      16.0|       14.0|            141.0|             33.0|                10.18|            31.63|              1.58|               1.38|                    13.94|                     3.26|                                3959|                          130.09677419|                   10.841397849166666|\n",
      "| 851190|      126| 2010-05-25|     5|Dinner was extra ...|carnation lean fe...|126|     40|          1556|    1999-08-14|[60-minutes-or-le...|535.7, 24.0, 9.0,...|      9|['in a large pot ...|                    |['fettuccine', 'o...|           13|   535.7|         24.0|      9.0|      24.0|       57.0|             37.0|             23.0|                 4.48|             1.68|              4.48|              10.64|                     6.91|                     4.29|                                3937|                          129.35483871|                        10.7795698925|\n",
      "+-------+---------+-----------+------+--------------------+--------------------+---+-------+--------------+--------------+--------------------+--------------------+-------+--------------------+--------------------+--------------------+-------------+--------+-------------+---------+----------+-----------+-----------------+-----------------+---------------------+-----------------+------------------+-------------------+-------------------------+-------------------------+------------------------------------+--------------------------------------+-------------------------------------+\n",
      "only showing top 5 rows"
     ]
    }
   ],
   "source": [
    "interaction_level_df = (interaction_level_df.withColumn(\n",
    "    'days_since_submission_on_review_date',\n",
    "    F.datediff(\n",
    "        interaction_level_df.review_date,\n",
    "        interaction_level_df.submitted_date)).withColumn(\n",
    "            'months_since_submission_on_review_date',\n",
    "            F.months_between(\n",
    "                interaction_level_df.review_date,\n",
    "                interaction_level_df.submitted_date)).withColumn(\n",
    "                    'years_since_submission_on_review_date',\n",
    "                    F.months_between(interaction_level_df.review_date,\n",
    "                                     interaction_level_df.submitted_date) / 12))\n",
    "interaction_level_df.show(5)"
   ]
  },
  {
   "cell_type": "markdown",
   "id": "32301322",
   "metadata": {
    "id": "32301322"
   },
   "source": [
    "**Test cases for Task 06**"
   ]
  },
  {
   "cell_type": "code",
   "execution_count": 25,
   "id": "416eb59e",
   "metadata": {
    "execution": {
     "iopub.execute_input": "2022-12-17T06:25:28.789716Z",
     "iopub.status.busy": "2022-12-17T06:25:28.789426Z",
     "iopub.status.idle": "2022-12-17T06:25:38.224753Z",
     "shell.execute_reply": "2022-12-17T06:25:38.223849Z",
     "shell.execute_reply.started": "2022-12-17T06:25:28.789684Z"
    },
    "executionInfo": {
     "elapsed": 21861,
     "status": "ok",
     "timestamp": 1671252063246,
     "user": {
      "displayName": "selva kumar",
      "userId": "14603636916965685349"
     },
     "user_tz": -330
    },
    "id": "416eb59e",
    "tags": []
   },
   "outputs": [
    {
     "data": {
      "application/vnd.jupyter.widget-view+json": {
       "model_id": "0cd0f33c120a46859cba306ffb3320a5",
       "version_major": 2,
       "version_minor": 0
      },
      "text/plain": [
       "VBox()"
      ]
     },
     "metadata": {},
     "output_type": "display_data"
    },
    {
     "data": {
      "application/vnd.jupyter.widget-view+json": {
       "model_id": "",
       "version_major": 2,
       "version_minor": 0
      },
      "text/plain": [
       "FloatProgress(value=0.0, bar_style='info', description='Progress:', layout=Layout(height='25px', width='50%'),…"
      ]
     },
     "metadata": {},
     "output_type": "display_data"
    }
   ],
   "source": [
    "# Code check cell\n",
    "# Do not edit cells with assert commands\n",
    "# If an error is shown after running this cell, please recheck your code.\n",
    "\n",
    "assert interaction_level_df.schema[\n",
    "    \"days_since_submission_on_review_date\"].dataType == IntegerType()\n",
    "\n",
    "assert (interaction_level_df.filter((interaction_level_df.user_id == 428885) &\n",
    "                                    (interaction_level_df.recipe_id == 335241)).\n",
    "        select('days_since_submission_on_review_date').collect()[0][0]) == 77\n",
    "assert (interaction_level_df.filter((interaction_level_df.user_id == 2025676) &\n",
    "                                    (interaction_level_df.recipe_id == 94265)).\n",
    "        select('months_since_submission_on_review_date').collect()[0][0]\n",
    "       ) == 153.22580645\n",
    "assert (interaction_level_df.filter((interaction_level_df.user_id == 338588) &\n",
    "                                    (interaction_level_df.recipe_id == 21859)).\n",
    "        select('years_since_submission_on_review_date').collect()[0][0]\n",
    "       ) == 4.564516129166667"
   ]
  },
  {
   "cell_type": "markdown",
   "id": "3a764c83",
   "metadata": {
    "id": "3a764c83"
   },
   "source": [
    "#### <font color='Teal'>If all test cases pass task 06 ends</font>"
   ]
  },
  {
   "cell_type": "markdown",
   "id": "794e0e3e",
   "metadata": {
    "id": "794e0e3e"
   },
   "source": [
    "## Save the data we have created so far in a parquet file. "
   ]
  },
  {
   "cell_type": "code",
   "execution_count": 26,
   "id": "24f6017a",
   "metadata": {
    "colab": {
     "base_uri": "https://localhost:8080/"
    },
    "execution": {
     "iopub.execute_input": "2022-12-17T06:25:38.226217Z",
     "iopub.status.busy": "2022-12-17T06:25:38.225897Z",
     "iopub.status.idle": "2022-12-17T06:25:38.289836Z",
     "shell.execute_reply": "2022-12-17T06:25:38.288950Z",
     "shell.execute_reply.started": "2022-12-17T06:25:38.226187Z"
    },
    "executionInfo": {
     "elapsed": 12,
     "status": "ok",
     "timestamp": 1671252063246,
     "user": {
      "displayName": "selva kumar",
      "userId": "14603636916965685349"
     },
     "user_tz": -330
    },
    "id": "24f6017a",
    "outputId": "d964d590-6925-472e-a03e-0834c87c169c",
    "tags": []
   },
   "outputs": [
    {
     "data": {
      "application/vnd.jupyter.widget-view+json": {
       "model_id": "43bf5cace48a4d99bc6e4849aca0d1b6",
       "version_major": 2,
       "version_minor": 0
      },
      "text/plain": [
       "VBox()"
      ]
     },
     "metadata": {},
     "output_type": "display_data"
    },
    {
     "data": {
      "application/vnd.jupyter.widget-view+json": {
       "model_id": "",
       "version_major": 2,
       "version_minor": 0
      },
      "text/plain": [
       "FloatProgress(value=0.0, bar_style='info', description='Progress:', layout=Layout(height='25px', width='50%'),…"
      ]
     },
     "metadata": {},
     "output_type": "display_data"
    },
    {
     "name": "stdout",
     "output_type": "stream",
     "text": [
      "root\n",
      " |-- user_id: integer (nullable = true)\n",
      " |-- recipe_id: integer (nullable = true)\n",
      " |-- review_date: date (nullable = true)\n",
      " |-- rating: integer (nullable = true)\n",
      " |-- review: string (nullable = true)\n",
      " |-- name: string (nullable = true)\n",
      " |-- id: integer (nullable = true)\n",
      " |-- minutes: integer (nullable = true)\n",
      " |-- contributor_id: integer (nullable = true)\n",
      " |-- submitted_date: date (nullable = true)\n",
      " |-- tags: array (nullable = true)\n",
      " |    |-- element: string (containsNull = false)\n",
      " |-- nutrition: string (nullable = true)\n",
      " |-- n_steps: integer (nullable = true)\n",
      " |-- steps: string (nullable = true)\n",
      " |-- description: string (nullable = true)\n",
      " |-- ingredients: string (nullable = true)\n",
      " |-- n_ingredients: integer (nullable = true)\n",
      " |-- calories: float (nullable = true)\n",
      " |-- total_fat_PDV: float (nullable = true)\n",
      " |-- sugar_PDV: float (nullable = true)\n",
      " |-- sodium_PDV: float (nullable = true)\n",
      " |-- protein_PDV: float (nullable = true)\n",
      " |-- saturated_fat_PDV: float (nullable = true)\n",
      " |-- carbohydrates_PDV: float (nullable = true)\n",
      " |-- total_fat_per_100_cal: double (nullable = false)\n",
      " |-- sugar_per_100_cal: double (nullable = false)\n",
      " |-- sodium_per_100_cal: double (nullable = false)\n",
      " |-- protein_per_100_cal: double (nullable = false)\n",
      " |-- saturated_fat_per_100_cal: double (nullable = false)\n",
      " |-- carbohydrates_per_100_cal: double (nullable = false)\n",
      " |-- days_since_submission_on_review_date: integer (nullable = true)\n",
      " |-- months_since_submission_on_review_date: double (nullable = true)\n",
      " |-- years_since_submission_on_review_date: double (nullable = true)"
     ]
    }
   ],
   "source": [
    "interaction_level_df.printSchema()"
   ]
  },
  {
   "cell_type": "code",
   "execution_count": 27,
   "id": "864a70a2",
   "metadata": {
    "execution": {
     "iopub.execute_input": "2022-12-17T06:25:38.291290Z",
     "iopub.status.busy": "2022-12-17T06:25:38.290965Z",
     "iopub.status.idle": "2022-12-17T06:25:41.942602Z",
     "shell.execute_reply": "2022-12-17T06:25:41.941643Z",
     "shell.execute_reply.started": "2022-12-17T06:25:38.291254Z"
    },
    "executionInfo": {
     "elapsed": 8409,
     "status": "ok",
     "timestamp": 1671252071645,
     "user": {
      "displayName": "selva kumar",
      "userId": "14603636916965685349"
     },
     "user_tz": -330
    },
    "id": "864a70a2",
    "scrolled": true,
    "tags": []
   },
   "outputs": [
    {
     "data": {
      "application/vnd.jupyter.widget-view+json": {
       "model_id": "3350c292c01a4009b4a5076791af7a8e",
       "version_major": 2,
       "version_minor": 0
      },
      "text/plain": [
       "VBox()"
      ]
     },
     "metadata": {},
     "output_type": "display_data"
    },
    {
     "data": {
      "application/vnd.jupyter.widget-view+json": {
       "model_id": "",
       "version_major": 2,
       "version_minor": 0
      },
      "text/plain": [
       "FloatProgress(value=0.0, bar_style='info', description='Progress:', layout=Layout(height='25px', width='50%'),…"
      ]
     },
     "metadata": {},
     "output_type": "display_data"
    }
   ],
   "source": [
    "assert (interaction_level_df.count(),\n",
    "        len(interaction_level_df.columns)) == (1132367, 33)"
   ]
  },
  {
   "cell_type": "code",
   "execution_count": 29,
   "id": "f66d1048",
   "metadata": {
    "execution": {
     "iopub.execute_input": "2022-12-17T06:28:10.882503Z",
     "iopub.status.busy": "2022-12-17T06:28:10.882129Z",
     "iopub.status.idle": "2022-12-17T06:28:48.358900Z",
     "shell.execute_reply": "2022-12-17T06:28:48.357962Z",
     "shell.execute_reply.started": "2022-12-17T06:28:10.882470Z"
    },
    "executionInfo": {
     "elapsed": 72853,
     "status": "ok",
     "timestamp": 1671252144488,
     "user": {
      "displayName": "selva kumar",
      "userId": "14603636916965685349"
     },
     "user_tz": -330
    },
    "id": "f66d1048",
    "tags": []
   },
   "outputs": [
    {
     "data": {
      "application/vnd.jupyter.widget-view+json": {
       "model_id": "4b5a5281b2af4cdfacecf74d15ed0cfe",
       "version_major": 2,
       "version_minor": 0
      },
      "text/plain": [
       "VBox()"
      ]
     },
     "metadata": {},
     "output_type": "display_data"
    },
    {
     "data": {
      "application/vnd.jupyter.widget-view+json": {
       "model_id": "",
       "version_major": 2,
       "version_minor": 0
      },
      "text/plain": [
       "FloatProgress(value=0.0, bar_style='info', description='Progress:', layout=Layout(height='25px', width='50%'),…"
      ]
     },
     "metadata": {},
     "output_type": "display_data"
    }
   ],
   "source": [
    "## Write the raw_recipes_df\n",
    "interaction_level_df.write\\\n",
    "                    .mode('overwrite')\\\n",
    "                    .parquet(\"s3://aws-emr-resources-362601132439-us-east-1/notebooks/e-6EQ18VWH4ISJJBY68567ZT0TX/Data/interaction_level_df_processed.parquet\")"
   ]
  }
 ],
 "metadata": {
  "colab": {
   "collapsed_sections": [
    "77b2b456",
    "923e5db1",
    "0b84f908",
    "3a764c83"
   ],
   "provenance": []
  },
  "gpuClass": "standard",
  "kernelspec": {
   "display_name": "PySpark",
   "language": "python",
   "name": "pysparkkernel"
  },
  "language_info": {
   "codemirror_mode": {
    "name": "python",
    "version": 3
   },
   "file_extension": ".py",
   "mimetype": "text/x-python",
   "name": "pyspark",
   "pygments_lexer": "python3"
  }
 },
 "nbformat": 4,
 "nbformat_minor": 5
}
